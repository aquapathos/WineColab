{
  "nbformat": 4,
  "nbformat_minor": 0,
  "metadata": {
    "colab": {
      "name": "wine.ipynb",
      "version": "0.3.2",
      "provenance": [],
      "collapsed_sections": [],
      "toc_visible": true,
      "include_colab_link": true
    },
    "kernelspec": {
      "name": "python3",
      "display_name": "Python 3"
    },
    "accelerator": "GPU"
  },
  "cells": [
    {
      "cell_type": "markdown",
      "metadata": {
        "id": "view-in-github",
        "colab_type": "text"
      },
      "source": [
        "<a href=\"https://colab.research.google.com/github/aquapathos/WineColab/blob/master/wine.ipynb\" target=\"_parent\"><img src=\"https://colab.research.google.com/assets/colab-badge.svg\" alt=\"Open In Colab\"/></a>"
      ]
    },
    {
      "metadata": {
        "id": "PAagFWqv2YeT",
        "colab_type": "text"
      },
      "cell_type": "markdown",
      "source": [
        "# Google Colab に Wineを導入\n",
        "\n",
        "## 1. 「Google Colab を GUI で利用する方法」を流用\n",
        "\n",
        "---\n",
        "\n",
        " ## 概要\n",
        " - 仮想ディスプレイ上で  X11 を起動し，anydeskによって遠隔利用\n",
        " \n",
        " ## 目的\n",
        " - ウィンドウ表示やマウス操作など，GUIを使う  python プログラムを動作させること．\n",
        " \n",
        " ## 利用方法\n",
        "1. 最後まで実行\n",
        "2. 最後にアクセス用URLとパスワードが表示されるのでブラウザでアクセス．\n",
        "   anydesk が起動しているので，アクセスIDをメモ\n",
        "3. アクセス用デバイスで anydesk を起動し，メモしたアクセスIDで接続\n",
        " \n",
        " ### 補足\n",
        "- '[**prepareWine.sh**](https://github.com/aquapathos/WineColab/blob/master/prepareWine.sh)\n",
        "\n",
        "に 必要な apt install , wget の手順のスクリプトを用意してあり、これを実行する\n",
        "\n",
        "---\n",
        "\n",
        "## 2. Wine\n",
        "\n",
        "これから\n",
        "\n",
        "---\n",
        "という手順\n",
        "\n"
      ]
    },
    {
      "metadata": {
        "id": "x1CFRjldr8Cc",
        "colab_type": "code",
        "outputId": "51c43f01-bd48-4184-c4ea-962fd43c5b63",
        "colab": {
          "base_uri": "https://localhost:8080/",
          "height": 2224
        }
      },
      "cell_type": "code",
      "source": [
        "%cd /tmp\n",
        "!rm /tmp/prepareWine.sh \n",
        "!curl -fsSL -o prepareWine.sh https://raw.githubusercontent.com/aquapathos/WineColab/master/prepareWine.sh\n",
        "!chmod a+x  /tmp/prepareWine.sh\n",
        "!/tmp/prepareWine.sh"
      ],
      "execution_count": 0,
      "outputs": [
        {
          "output_type": "stream",
          "text": [
            "/tmp\n",
            "Hit:1 http://ppa.launchpad.net/gnome3-team/gnome3/ubuntu bionic InRelease\n",
            "Hit:2 http://ppa.launchpad.net/graphics-drivers/ppa/ubuntu bionic InRelease\n",
            "Hit:3 http://ppa.launchpad.net/marutter/c2d4u3.5/ubuntu bionic InRelease\n",
            "Hit:4 https://dl.winehq.org/wine-builds/ubuntu bionic InRelease\n",
            "Hit:5 http://archive.ubuntu.com/ubuntu bionic InRelease\n",
            "Get:6 http://archive.ubuntu.com/ubuntu bionic-updates InRelease [88.7 kB]\n",
            "Get:7 http://security.ubuntu.com/ubuntu bionic-security InRelease [88.7 kB]\n",
            "Get:8 http://archive.ubuntu.com/ubuntu bionic-backports InRelease [74.6 kB]\n",
            "Ign:9 https://developer.download.nvidia.com/compute/cuda/repos/ubuntu1804/x86_64  InRelease\n",
            "Get:10 https://cloud.r-project.org/bin/linux/ubuntu bionic-cran35/ InRelease [3,609 B]\n",
            "Ign:11 https://developer.download.nvidia.com/compute/machine-learning/repos/ubuntu1804/x86_64  InRelease\n",
            "Hit:12 https://developer.download.nvidia.com/compute/cuda/repos/ubuntu1804/x86_64  Release\n",
            "Hit:13 https://developer.download.nvidia.com/compute/machine-learning/repos/ubuntu1804/x86_64  Release\n",
            "Get:14 http://archive.ubuntu.com/ubuntu bionic-updates/universe i386 Packages [1,176 kB]\n",
            "Get:15 http://archive.ubuntu.com/ubuntu bionic-updates/universe amd64 Packages [1,191 kB]\n",
            "Get:16 http://archive.ubuntu.com/ubuntu bionic-updates/main i386 Packages [654 kB]\n",
            "Get:17 http://archive.ubuntu.com/ubuntu bionic-updates/main amd64 Packages [776 kB]\n",
            "Fetched 4,052 kB in 2s (1,890 kB/s)\n",
            "Reading package lists... Done\n",
            "Reading package lists... Done\n",
            "Building dependency tree       \n",
            "Reading state information... Done\n",
            "libgtkglext1 is already the newest version (1.2.0-8).\n",
            "libpangox-1.0-0 is already the newest version (0.0.2-5).\n",
            "libpango1.0-0 is already the newest version (1.40.14-1ubuntu0.1).\n",
            "0 upgraded, 0 newly installed, 0 to remove and 38 not upgraded.\n",
            "(Reading database ... 172220 files and directories currently installed.)\n",
            "Preparing to unpack anydesk_4.0.1-1_amd64.deb ...\n",
            "Unpacking anydesk (4.0.1-1) over (4.0.1-1) ...\n",
            "Preparing to unpack libjpeg-turbo-official_2.0.0_amd64.deb ...\n",
            "Unpacking libjpeg-turbo-official (2.0.0-20180727) over (2.0.0-20180727) ...\n",
            "Preparing to unpack turbovnc_2.2.1_amd64.deb ...\n",
            "Unpacking turbovnc (2.2.1-20190102) over (2.2.1-20190102) ...\n",
            "Preparing to unpack virtualgl_2.6.1_amd64.deb ...\n",
            "Unpacking virtualgl (2.6.1-20190411) over (2.6.1-20190411) ...\n",
            "Setting up anydesk (4.0.1-1) ...\n",
            "Setting up libjpeg-turbo-official (2.0.0-20180727) ...\n",
            "Setting up turbovnc (2.2.1-20190102) ...\n",
            "Setting up virtualgl (2.6.1-20190411) ...\n",
            "Processing triggers for desktop-file-utils (0.23-1ubuntu3.18.04.2) ...\n",
            "Processing triggers for mime-support (3.60ubuntu1) ...\n",
            "Processing triggers for hicolor-icon-theme (0.17-2) ...\n",
            "Processing triggers for systemd (237-3ubuntu10.21) ...\n",
            "\n",
            "WARNING: apt does not have a stable CLI interface. Use with caution in scripts.\n",
            "\n",
            "Extracting templates from packages: 100%\n",
            "Archive:  ngrok-stable-linux-amd64.zip\n",
            "  inflating: /opt/ngrok              \n",
            "xmodmap:  unable to open display ''\n",
            "File ‘winehq.key’ already there; not retrieving.\n",
            "\n",
            "OK\n",
            "Hit:1 http://archive.ubuntu.com/ubuntu bionic InRelease\n",
            "Hit:2 http://archive.ubuntu.com/ubuntu bionic-updates InRelease\n",
            "Hit:3 http://ppa.launchpad.net/gnome3-team/gnome3/ubuntu bionic InRelease\n",
            "Hit:4 https://dl.winehq.org/wine-builds/ubuntu bionic InRelease\n",
            "Hit:5 http://ppa.launchpad.net/graphics-drivers/ppa/ubuntu bionic InRelease\n",
            "Hit:6 http://archive.ubuntu.com/ubuntu bionic-backports InRelease\n",
            "Hit:7 http://ppa.launchpad.net/marutter/c2d4u3.5/ubuntu bionic InRelease\n",
            "Hit:8 https://cloud.r-project.org/bin/linux/ubuntu bionic-cran35/ InRelease\n",
            "Hit:9 http://security.ubuntu.com/ubuntu bionic-security InRelease\n",
            "Ign:10 https://developer.download.nvidia.com/compute/cuda/repos/ubuntu1804/x86_64  InRelease\n",
            "Ign:11 https://developer.download.nvidia.com/compute/machine-learning/repos/ubuntu1804/x86_64  InRelease\n",
            "Hit:12 https://developer.download.nvidia.com/compute/cuda/repos/ubuntu1804/x86_64  Release\n",
            "Hit:13 https://developer.download.nvidia.com/compute/machine-learning/repos/ubuntu1804/x86_64  Release\n",
            "Reading package lists... Done\n",
            "Reading package lists... Done\n",
            "Building dependency tree       \n",
            "Reading state information... Done\n",
            "zenity is already the newest version (3.28.1-1).\n",
            "winetricks is already the newest version (0.0+20180217-1).\n",
            "winehq-stable is already the newest version (4.0~bionic).\n",
            "0 upgraded, 0 newly installed, 0 to remove and 38 not upgraded.\n",
            "------------------------------------------------------\n",
            "Running Wine/winetricks as root is highly discouraged. See https://wiki.winehq.org/FAQ#Should_I_run_Wine_as_root.3F\n",
            "------------------------------------------------------\n",
            "------------------------------------------------------\n",
            "You are using a 64-bit WINEPREFIX. Note that many verbs only install 32-bit versions of packages. If you encounter problems, please retest in a clean 32-bit WINEPREFIX before reporting a bug.\n",
            "------------------------------------------------------\n",
            "Using winetricks 20180217 - sha256sum: 1b156c616174f41df79d72a90c52eb2b110c63a6e8ecb865d303a8f9f0908924 with wine-4.0 and WINEARCH=win64\n",
            "Executing w_do_call vcrun2015\n",
            "Executing load_vcrun2015 \n",
            "------------------------------------------------------\n",
            "Working around wine bug 37781 \n",
            "------------------------------------------------------\n",
            "------------------------------------------------------\n",
            "This may fail in non-XP mode, see https://bugs.winehq.org/show_bug.cgi?id=37781\n",
            "------------------------------------------------------\n",
            "Using native,builtin override for following DLLs: api-ms-win-crt-conio-l1-1-0 api-ms-win-crt-heap-l1-1-0 api-ms-win-crt-locale-l1-1-0 api-ms-win-crt-math-l1-1-0 api-ms-win-crt-runtime-l1-1-0 api-ms-win-crt-stdio-l1-1-0 api-ms-win-crt-time-l1-1-0 atl140 concrt140 msvcp140 msvcr140 ucrtbase vcomp140 vcruntime140\n",
            "Executing wine regedit C:\\windows\\Temp\\_vcrun2015\\override-dll.reg\n",
            "ERROR: ld.so: object '/usr/lib/x86_64-linux-gnu/libtcmalloc.so.4' from LD_PRELOAD cannot be preloaded (wrong ELF class: ELFCLASS64): ignored.\n",
            "ERROR: ld.so: object '/usr/lib/x86_64-linux-gnu/libtcmalloc.so.4' from LD_PRELOAD cannot be preloaded (wrong ELF class: ELFCLASS64): ignored.\n",
            "\u001b[?1h\u001b=\u001b[?1l\u001b>Executing wine64 regedit C:\\windows\\Temp\\_vcrun2015\\override-dll.reg\n",
            "\u001b[?1h\u001b=\u001b[?1l\u001b>Setting Windows version to winxp\n",
            "Executing wine regedit C:\\windows\\Temp\\_vcrun2015\\set-winver.reg\n",
            "ERROR: ld.so: object '/usr/lib/x86_64-linux-gnu/libtcmalloc.so.4' from LD_PRELOAD cannot be preloaded (wrong ELF class: ELFCLASS64): ignored.\n",
            "ERROR: ld.so: object '/usr/lib/x86_64-linux-gnu/libtcmalloc.so.4' from LD_PRELOAD cannot be preloaded (wrong ELF class: ELFCLASS64): ignored.\n",
            "\u001b[?1h\u001b=\u001b[?1l\u001b>Executing wine64 regedit C:\\windows\\Temp\\_vcrun2015\\set-winver.reg\n",
            "\u001b[?1h\u001b=\u001b[?1l\u001b>------------------------------------------------------\n",
            "Running /usr/bin/wineserver -w. This will hang until all wine processes in prefix=/root/.wine terminate\n",
            "------------------------------------------------------\n",
            "Executing cd /root/.cache/winetricks/vcrun2015\n",
            "Executing wine vc_redist.x86.exe\n",
            "ERROR: ld.so: object '/usr/lib/x86_64-linux-gnu/libtcmalloc.so.4' from LD_PRELOAD cannot be preloaded (wrong ELF class: ELFCLASS64): ignored.\n",
            "ERROR: ld.so: object '/usr/lib/x86_64-linux-gnu/libtcmalloc.so.4' from LD_PRELOAD cannot be preloaded (wrong ELF class: ELFCLASS64): ignored.\n",
            "\u001b[?1h\u001b=0009:fixme:heap:RtlSetHeapInformation (nil) 1 (nil) 0 stub\n",
            "0009:fixme:heap:RtlSetHeapInformation (nil) 1 (nil) 0 stub\n",
            "0009:fixme:ntdll:NtQueryInformationToken QueryInformationToken( ..., TokenElevation, ...) semi-stub\n",
            "ERROR: ld.so: object '/usr/lib/x86_64-linux-gnu/libtcmalloc.so.4' from LD_PRELOAD cannot be preloaded (wrong ELF class: ELFCLASS64): ignored.\n",
            "002b:fixme:heap:RtlSetHeapInformation (nil) 1 (nil) 0 stub\n",
            "002b:fixme:heap:RtlSetHeapInformation (nil) 1 (nil) 0 stub\n",
            "002b:fixme:ntdll:NtQueryInformationToken QueryInformationToken( ..., TokenElevation, ...) semi-stub\n",
            "002b:fixme:advapi:DecryptFileW (L\"C:\\\\users\\\\root\\\\Temp\\\\{74d0e5db-b326-4dae-a6b2-445b9de1836e}\\\\\", 00000000): stub\n",
            "002e:err:winediag:nodrv_CreateWindow Application tried to create a window, but no driver could be loaded.\n",
            "002e:err:winediag:nodrv_CreateWindow Make sure that your X server is running and that $DISPLAY is set correctly.\n",
            "002d:err:winediag:nodrv_CreateWindow Application tried to create a window, but no driver could be loaded.\n",
            "002d:err:winediag:nodrv_CreateWindow Make sure that your X server is running and that $DISPLAY is set correctly.\n",
            "0009:fixme:ole:CoInitializeSecurity (0x33f584,-1,(nil),(nil),6,2,(nil),12288,(nil)) - stub!\n",
            "\u001b[?1l\u001b>------------------------------------------------------\n",
            "Note: command wine vc_redist.x86.exe returned status 120. Aborting.\n",
            "------------------------------------------------------\n"
          ],
          "name": "stdout"
        }
      ]
    },
    {
      "metadata": {
        "id": "Vpk2iqjEMbfu",
        "colab_type": "text"
      },
      "cell_type": "markdown",
      "source": [
        "# パス設定"
      ]
    },
    {
      "metadata": {
        "id": "sRk8eqZeuu4J",
        "colab_type": "code",
        "colab": {}
      },
      "cell_type": "code",
      "source": [
        "import os\n",
        "os.environ['PATH'] += \"/opt/TurboVNC/bin\"\n",
        "!mkdir -p /content/.vnc"
      ],
      "execution_count": 0,
      "outputs": []
    },
    {
      "metadata": {
        "id": "Z3I__g46MOoa",
        "colab_type": "text"
      },
      "cell_type": "markdown",
      "source": [
        "# noVNC セッションの開始\n",
        "#@title"
      ]
    },
    {
      "metadata": {
        "id": "7SwnsECweSJ_",
        "colab_type": "code",
        "cellView": "both",
        "outputId": "79680b04-be06-42df-8c72-e16c055f251c",
        "colab": {
          "base_uri": "https://localhost:8080/",
          "height": 70
        }
      },
      "cell_type": "code",
      "source": [
        "%cd /content\n",
        "!kill $(ps ax | grep websockify | grep -v grep | awk '{ print $1 }') >/dev/null\n",
        "!pkill ngrok\n",
        "!pkill vncserver\n",
        "!pkill Xvnc\n",
        "!pkill anydesk\n",
        "#!pkill Xvfb\n",
        "!pkill x11vnc\n",
        "\n",
        "! timeout 5 /opt/websockify/run 5901 --web=/opt/noVNC --wrap-mode=ignore -- /opt/TurboVNC/bin/vncserver :1 -securitytypes otp -otp -noxstartup 2>/dev/null\n",
        "get_ipython().system_raw('python /opt/websockify/run 5901 --web=/opt/noVNC --wrap-mode=ignore -- /opt/TurboVNC/bin/vncserver :1 -depth 24 -geometry 1600x900 -securitytypes otp -otp -noxstartup > /content/.vnc/stdout 2>&1 &')\n",
        "get_ipython().system_raw('/opt/ngrok http -config=/content/config.yml 5901 &')\n",
        "! sleep 1\n",
        "# get_ipython().system_raw('DISPLAY=:1 openbox &')\n",
        "get_ipython().system_raw('DISPLAY=:1 startxfce4 &')\n",
        "get_ipython().system_raw('DISPLAY=:1 jupyter notebook &')\n",
        "get_ipython().system_raw('DISPLAY=:1 epiphany http://localhost:8888 &')\n",
        "get_ipython().system_raw('DISPLAY=:1 xfce4-terminal &')\n",
        "get_ipython().system_raw('DISPLAY=:1 anydesk &')\n",
        "\n",
        "!grep \"one-time password:\" /content/.vnc/stdout\n",
        "\n",
        "import requests\n",
        "import json\n",
        "r = requests.get(\"http://localhost:4045/api/tunnels\", headers={\"content-type\": \"application/json\"})\n",
        "print(r.json()['tunnels'][0]['public_url'])"
      ],
      "execution_count": 0,
      "outputs": [
        {
          "output_type": "stream",
          "text": [
            "/content\n",
            "Full control one-time password: 18831266\n",
            "https://2f96e1cb.ngrok.io\n"
          ],
          "name": "stdout"
        }
      ]
    },
    {
      "metadata": {
        "id": "MKgXoOiFOXtC",
        "colab_type": "text"
      },
      "cell_type": "markdown",
      "source": [
        "# テストプログラム"
      ]
    },
    {
      "metadata": {
        "id": "fanS55PiCAoq",
        "colab_type": "code",
        "colab": {}
      },
      "cell_type": "code",
      "source": [
        "#!curl -fsSL -O https://gist.githubusercontent.com/aquapathos/94ab03a7e84a58695289c5b9a70110fa/raw/d3bfc29bd02cb276c401ee966a319b3a18749b97/l0041-color_som-1.ipynb"
      ],
      "execution_count": 0,
      "outputs": []
    },
    {
      "metadata": {
        "id": "jNDAIU5uOcaD",
        "colab_type": "code",
        "colab": {}
      },
      "cell_type": "code",
      "source": [
        "#!curl -fsSL -O https://gist.githubusercontent.com/aquapathos/e7bb81a3bdd1a97f9337df4bc493a15a/raw/67cee05076de1552bb5bcce315e4dd503b06ba0a/Fake+Painter.ipynb"
      ],
      "execution_count": 0,
      "outputs": []
    },
    {
      "metadata": {
        "id": "tMSxDCl72K2t",
        "colab_type": "code",
        "colab": {}
      },
      "cell_type": "code",
      "source": [
        "get_ipython().system_raw('DISPLAY=:1 startxfce4 &')"
      ],
      "execution_count": 0,
      "outputs": []
    },
    {
      "metadata": {
        "id": "SISdEejk2Lab",
        "colab_type": "code",
        "colab": {}
      },
      "cell_type": "code",
      "source": [
        ""
      ],
      "execution_count": 0,
      "outputs": []
    }
  ]
}