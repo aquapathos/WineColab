{
  "nbformat": 4,
  "nbformat_minor": 0,
  "metadata": {
    "colab": {
      "name": "wine.ipynb",
      "version": "0.3.2",
      "provenance": [],
      "collapsed_sections": [],
      "toc_visible": true,
      "include_colab_link": true
    },
    "kernelspec": {
      "name": "python3",
      "display_name": "Python 3"
    },
    "accelerator": "GPU"
  },
  "cells": [
    {
      "cell_type": "markdown",
      "metadata": {
        "id": "view-in-github",
        "colab_type": "text"
      },
      "source": [
        "<a href=\"https://colab.research.google.com/github/aquapathos/WineColab/blob/master/wine.ipynb\" target=\"_parent\"><img src=\"https://colab.research.google.com/assets/colab-badge.svg\" alt=\"Open In Colab\"/></a>"
      ]
    },
    {
      "metadata": {
        "id": "PAagFWqv2YeT",
        "colab_type": "text"
      },
      "cell_type": "markdown",
      "source": [
        "# Google Colab に Wineを導入\n",
        "\n",
        "## 1. 「Google Colab を GUI で利用する方法」を流用\n",
        "\n",
        "---\n",
        "\n",
        " ## 概要\n",
        " - 仮想ディスプレイ上で  X11 を起動し，anydeskによって遠隔利用\n",
        " \n",
        " ## 目的\n",
        " - ウィンドウ表示やマウス操作など，GUIを使う  python プログラムを動作させること．\n",
        " \n",
        " ## 利用方法\n",
        "1. 最後まで実行\n",
        "2. 最後にアクセス用URLとパスワードが表示されるのでブラウザでアクセス．\n",
        "   anydesk が起動しているので，アクセスIDをメモ\n",
        "3. アクセス用デバイスで anydesk を起動し，メモしたアクセスIDで接続\n",
        " \n",
        " ### 補足\n",
        "- '[**prepareWine.sh**](https://github.com/aquapathos/WineColab/blob/master/prepareWine.sh)\n",
        "\n",
        "に 必要な apt install , wget の手順のスクリプトを用意してあり、これを実行する\n",
        "\n",
        "---\n",
        "\n",
        "## 2. Wine\n",
        "\n",
        "これから\n",
        "\n",
        "---\n",
        "という手順\n",
        "\n"
      ]
    },
    {
      "metadata": {
        "id": "x1CFRjldr8Cc",
        "colab_type": "code",
        "outputId": "831b554b-89e7-4751-e7a6-6ddc6f3c0a6c",
        "colab": {
          "base_uri": "https://localhost:8080/",
          "height": 2737
        }
      },
      "cell_type": "code",
      "source": [
        "%cd /tmp\n",
        "!rm /tmp/prepareWine.sh \n",
        "!curl -fsSL -o prepareWine.sh https://raw.githubusercontent.com/aquapathos/WineColab/master/prepareWine.sh\n",
        "!chmod a+x  /tmp/prepareWine.sh\n",
        "!/tmp/prepareWine.sh"
      ],
      "execution_count": 1,
      "outputs": [
        {
          "output_type": "stream",
          "text": [
            "/tmp\n",
            "rm: cannot remove '/tmp/prepareWine.sh': No such file or directory\n",
            "Ign:1 https://developer.download.nvidia.com/compute/cuda/repos/ubuntu1804/x86_64  InRelease\n",
            "Hit:2 http://ppa.launchpad.net/graphics-drivers/ppa/ubuntu bionic InRelease\n",
            "Get:3 http://security.ubuntu.com/ubuntu bionic-security InRelease [88.7 kB]\n",
            "Ign:4 https://developer.download.nvidia.com/compute/machine-learning/repos/ubuntu1804/x86_64  InRelease\n",
            "Hit:5 https://developer.download.nvidia.com/compute/cuda/repos/ubuntu1804/x86_64  Release\n",
            "Hit:6 https://developer.download.nvidia.com/compute/machine-learning/repos/ubuntu1804/x86_64  Release\n",
            "Hit:7 http://archive.ubuntu.com/ubuntu bionic InRelease\n",
            "Get:8 http://archive.ubuntu.com/ubuntu bionic-updates InRelease [88.7 kB]\n",
            "Hit:9 http://ppa.launchpad.net/marutter/c2d4u3.5/ubuntu bionic InRelease\n",
            "Get:11 https://cloud.r-project.org/bin/linux/ubuntu bionic-cran35/ InRelease [3,609 B]\n",
            "Get:12 http://archive.ubuntu.com/ubuntu bionic-backports InRelease [74.6 kB]\n",
            "Get:14 http://security.ubuntu.com/ubuntu bionic-security/universe amd64 Packages [304 kB]\n",
            "Get:15 http://archive.ubuntu.com/ubuntu bionic-updates/main amd64 Packages [776 kB]\n",
            "Get:16 http://security.ubuntu.com/ubuntu bionic-security/main amd64 Packages [424 kB]\n",
            "Get:17 http://archive.ubuntu.com/ubuntu bionic-updates/universe amd64 Packages [1,189 kB]\n",
            "Fetched 2,949 kB in 2s (1,407 kB/s)\n",
            "Reading package lists... Done\n",
            "Building dependency tree       \n",
            "Reading state information... Done\n",
            "57 packages can be upgraded. Run 'apt list --upgradable' to see them.\n",
            "Reading package lists...\n",
            "Building dependency tree...\n",
            "Reading state information...\n",
            "The following package was automatically installed and is no longer required:\n",
            "  libnvidia-common-410\n",
            "Use 'apt autoremove' to remove it.\n",
            "The following additional packages will be installed:\n",
            "  libgtk2.0-common libpangoxft-1.0-0\n",
            "Suggested packages:\n",
            "  gvfs\n",
            "Recommended packages:\n",
            "  libgail-common libgtk2.0-bin\n",
            "The following NEW packages will be installed:\n",
            "  libgtk2.0-0 libgtk2.0-common libgtkglext1 libpango1.0-0 libpangox-1.0-0\n",
            "  libpangoxft-1.0-0\n",
            "0 upgraded, 6 newly installed, 0 to remove and 57 not upgraded.\n",
            "Need to get 2,028 kB of archives.\n",
            "After this operation, 6,775 kB of additional disk space will be used.\n",
            "Get:1 http://archive.ubuntu.com/ubuntu bionic/universe amd64 libpangox-1.0-0 amd64 0.0.2-5 [41.7 kB]\n",
            "Get:2 http://archive.ubuntu.com/ubuntu bionic/main amd64 libgtk2.0-common all 2.24.32-1ubuntu1 [125 kB]\n",
            "Get:3 http://archive.ubuntu.com/ubuntu bionic/main amd64 libgtk2.0-0 amd64 2.24.32-1ubuntu1 [1,769 kB]\n",
            "Get:4 http://archive.ubuntu.com/ubuntu bionic/universe amd64 libgtkglext1 amd64 1.2.0-8 [73.9 kB]\n",
            "Get:5 http://archive.ubuntu.com/ubuntu bionic-updates/main amd64 libpangoxft-1.0-0 amd64 1.40.14-1ubuntu0.1 [15.0 kB]\n",
            "Get:6 http://archive.ubuntu.com/ubuntu bionic-updates/universe amd64 libpango1.0-0 amd64 1.40.14-1ubuntu0.1 [3,344 B]\n",
            "Fetched 2,028 kB in 1s (2,165 kB/s)\n",
            "Selecting previously unselected package libpangox-1.0-0:amd64.\n",
            "(Reading database ... 130812 files and directories currently installed.)\n",
            "Preparing to unpack .../0-libpangox-1.0-0_0.0.2-5_amd64.deb ...\n",
            "Unpacking libpangox-1.0-0:amd64 (0.0.2-5) ...\n",
            "Selecting previously unselected package libgtk2.0-common.\n",
            "Preparing to unpack .../1-libgtk2.0-common_2.24.32-1ubuntu1_all.deb ...\n",
            "Unpacking libgtk2.0-common (2.24.32-1ubuntu1) ...\n",
            "Selecting previously unselected package libgtk2.0-0:amd64.\n",
            "Preparing to unpack .../2-libgtk2.0-0_2.24.32-1ubuntu1_amd64.deb ...\n",
            "Unpacking libgtk2.0-0:amd64 (2.24.32-1ubuntu1) ...\n",
            "Selecting previously unselected package libgtkglext1:amd64.\n",
            "Preparing to unpack .../3-libgtkglext1_1.2.0-8_amd64.deb ...\n",
            "Unpacking libgtkglext1:amd64 (1.2.0-8) ...\n",
            "Selecting previously unselected package libpangoxft-1.0-0:amd64.\n",
            "Preparing to unpack .../4-libpangoxft-1.0-0_1.40.14-1ubuntu0.1_amd64.deb ...\n",
            "Unpacking libpangoxft-1.0-0:amd64 (1.40.14-1ubuntu0.1) ...\n",
            "Selecting previously unselected package libpango1.0-0:amd64.\n",
            "Preparing to unpack .../5-libpango1.0-0_1.40.14-1ubuntu0.1_amd64.deb ...\n",
            "Unpacking libpango1.0-0:amd64 (1.40.14-1ubuntu0.1) ...\n",
            "Setting up libgtk2.0-common (2.24.32-1ubuntu1) ...\n",
            "Setting up libpangoxft-1.0-0:amd64 (1.40.14-1ubuntu0.1) ...\n",
            "Processing triggers for libc-bin (2.27-3ubuntu1) ...\n",
            "Setting up libpangox-1.0-0:amd64 (0.0.2-5) ...\n",
            "Setting up libgtk2.0-0:amd64 (2.24.32-1ubuntu1) ...\n",
            "Setting up libpango1.0-0:amd64 (1.40.14-1ubuntu0.1) ...\n",
            "Setting up libgtkglext1:amd64 (1.2.0-8) ...\n",
            "Processing triggers for libc-bin (2.27-3ubuntu1) ...\n",
            "Selecting previously unselected package anydesk.\n",
            "(Reading database ... 130886 files and directories currently installed.)\n",
            "Preparing to unpack anydesk_4.0.1-1_amd64.deb ...\n",
            "Unpacking anydesk (4.0.1-1) ...\n",
            "Selecting previously unselected package libjpeg-turbo-official.\n",
            "Preparing to unpack libjpeg-turbo-official_2.0.2_amd64.deb ...\n",
            "Unpacking libjpeg-turbo-official (2.0.2-20190213) ...\n",
            "Selecting previously unselected package turbovnc.\n",
            "Preparing to unpack turbovnc_2.2.1_amd64.deb ...\n",
            "Unpacking turbovnc (2.2.1-20190102) ...\n",
            "Selecting previously unselected package virtualgl.\n",
            "Preparing to unpack virtualgl_2.6.1_amd64.deb ...\n",
            "Unpacking virtualgl (2.6.1-20190411) ...\n",
            "Setting up anydesk (4.0.1-1) ...\n",
            "Setting up libjpeg-turbo-official (2.0.2-20190213) ...\n",
            "Setting up turbovnc (2.2.1-20190102) ...\n",
            "Setting up virtualgl (2.6.1-20190411) ...\n",
            "Processing triggers for mime-support (3.60ubuntu1) ...\n",
            "Processing triggers for hicolor-icon-theme (0.17-2) ...\n",
            "Processing triggers for systemd (237-3ubuntu10.21) ...\n",
            "\n",
            "WARNING: apt does not have a stable CLI interface. Use with caution in scripts.\n",
            "\n",
            "Extracting templates from packages: 100%\n",
            "\n",
            "WARNING: apt does not have a stable CLI interface. Use with caution in scripts.\n",
            "\n",
            "Extracting templates from packages: 100%\n",
            "rm: cannot remove '/opt/ngrok': No such file or directory\n",
            "Archive:  ngrok-stable-linux-amd64.zip\n",
            "  inflating: /opt/ngrok              \n",
            "--2019-05-02 10:14:55--  https://dl.winehq.org/wine-builds/winehq.key\n",
            "Resolving dl.winehq.org (dl.winehq.org)... 151.101.2.217, 151.101.66.217, 151.101.130.217, ...\n",
            "Connecting to dl.winehq.org (dl.winehq.org)|151.101.2.217|:443... connected.\n",
            "HTTP request sent, awaiting response... 200 OK\n",
            "Length: 3220 (3.1K) [application/pgp-keys]\n",
            "Saving to: ‘winehq.key’\n",
            "\n",
            "winehq.key          100%[===================>]   3.14K  --.-KB/s    in 0s      \n",
            "\n",
            "2019-05-02 10:14:55 (79.1 MB/s) - ‘winehq.key’ saved [3220/3220]\n",
            "\n",
            "OK\n",
            "Hit:1 http://security.ubuntu.com/ubuntu bionic-security InRelease\n",
            "Get:2 https://dl.winehq.org/wine-builds/ubuntu bionic InRelease [6,257 B]\n",
            "Hit:3 https://cloud.r-project.org/bin/linux/ubuntu bionic-cran35/ InRelease\n",
            "Ign:4 https://developer.download.nvidia.com/compute/cuda/repos/ubuntu1804/x86_64  InRelease\n",
            "Hit:5 http://archive.ubuntu.com/ubuntu bionic InRelease\n",
            "Hit:6 http://ppa.launchpad.net/gnome3-team/gnome3/ubuntu bionic InRelease\n",
            "Ign:7 https://developer.download.nvidia.com/compute/machine-learning/repos/ubuntu1804/x86_64  InRelease\n",
            "Hit:8 https://developer.download.nvidia.com/compute/cuda/repos/ubuntu1804/x86_64  Release\n",
            "Hit:9 https://developer.download.nvidia.com/compute/machine-learning/repos/ubuntu1804/x86_64  Release\n",
            "Hit:10 http://archive.ubuntu.com/ubuntu bionic-updates InRelease\n",
            "Get:11 http://security.ubuntu.com/ubuntu bionic-security/universe i386 Packages [299 kB]\n",
            "Hit:12 http://archive.ubuntu.com/ubuntu bionic-backports InRelease\n",
            "Hit:13 http://ppa.launchpad.net/graphics-drivers/ppa/ubuntu bionic InRelease\n",
            "Get:14 http://security.ubuntu.com/ubuntu bionic-security/main i386 Packages [320 kB]\n",
            "Get:15 http://security.ubuntu.com/ubuntu bionic-security/restricted i386 Packages [5,385 B]\n",
            "Get:16 http://security.ubuntu.com/ubuntu bionic-security/multiverse i386 Packages [4,342 B]\n",
            "Hit:17 http://ppa.launchpad.net/marutter/c2d4u3.5/ubuntu bionic InRelease\n",
            "Get:18 https://dl.winehq.org/wine-builds/ubuntu bionic/main amd64 Packages [678 kB]\n",
            "Get:19 https://dl.winehq.org/wine-builds/ubuntu bionic/main i386 Packages [722 kB]\n",
            "Get:20 http://archive.ubuntu.com/ubuntu bionic/restricted i386 Packages [13.5 kB]\n",
            "Get:21 http://archive.ubuntu.com/ubuntu bionic/multiverse i386 Packages [177 kB]\n",
            "Get:23 http://ppa.launchpad.net/gnome3-team/gnome3/ubuntu bionic/main i386 Packages [724 B]\n",
            "Get:25 http://archive.ubuntu.com/ubuntu bionic/universe i386 Packages [11.3 MB]\n",
            "Get:26 http://archive.ubuntu.com/ubuntu bionic/main i386 Packages [1,328 kB]\n",
            "Get:27 http://archive.ubuntu.com/ubuntu bionic-updates/universe i386 Packages [1,174 kB]\n",
            "Get:28 http://ppa.launchpad.net/graphics-drivers/ppa/ubuntu bionic/main i386 Packages [26.4 kB]\n",
            "Get:29 http://archive.ubuntu.com/ubuntu bionic-updates/restricted i386 Packages [10.7 kB]\n",
            "Get:30 http://archive.ubuntu.com/ubuntu bionic-updates/main i386 Packages [654 kB]\n",
            "Get:31 http://archive.ubuntu.com/ubuntu bionic-updates/multiverse i386 Packages [7,410 B]\n",
            "Get:32 http://archive.ubuntu.com/ubuntu bionic-backports/universe i386 Packages [3,659 B]\n",
            "Get:33 http://archive.ubuntu.com/ubuntu bionic-backports/main i386 Packages [941 B]\n",
            "Get:34 http://ppa.launchpad.net/marutter/c2d4u3.5/ubuntu bionic/main i386 Packages [788 kB]\n",
            "Fetched 17.5 MB in 7s (2,489 kB/s)\n",
            "Reading package lists... Done\n",
            "E: Command line option --no--install-recommends is not understood in combination with the other options\n",
            "/tmp/prepareWine.sh: line 102: DISPLAY: command not found\n"
          ],
          "name": "stdout"
        }
      ]
    },
    {
      "metadata": {
        "id": "Vpk2iqjEMbfu",
        "colab_type": "text"
      },
      "cell_type": "markdown",
      "source": [
        "# パス設定"
      ]
    },
    {
      "metadata": {
        "id": "sRk8eqZeuu4J",
        "colab_type": "code",
        "colab": {}
      },
      "cell_type": "code",
      "source": [
        "import os\n",
        "os.environ['PATH'] += \"/opt/TurboVNC/bin\"\n",
        "!mkdir -p /content/.vnc"
      ],
      "execution_count": 0,
      "outputs": []
    },
    {
      "metadata": {
        "id": "Z3I__g46MOoa",
        "colab_type": "text"
      },
      "cell_type": "markdown",
      "source": [
        "# noVNC セッションの開始\n",
        "#@title"
      ]
    },
    {
      "metadata": {
        "id": "7SwnsECweSJ_",
        "colab_type": "code",
        "cellView": "both",
        "outputId": "3e90bce3-d38d-4681-9936-29947223a6d5",
        "colab": {
          "base_uri": "https://localhost:8080/",
          "height": 70
        }
      },
      "cell_type": "code",
      "source": [
        "%cd /content\n",
        "!kill $(ps ax | grep websockify | grep -v grep | awk '{ print $1 }') >/dev/null\n",
        "!pkill ngrok\n",
        "!pkill vncserver\n",
        "!pkill Xvnc\n",
        "!pkill anydesk\n",
        "#!pkill Xvfb\n",
        "!pkill x11vnc\n",
        "\n",
        "!timeout 5 /opt/websockify/run 5901 --web=/opt/noVNC --wrap-mode=ignore -- /opt/TurboVNC/bin/vncserver :1 -securitytypes otp -otp -noxstartup 2>/dev/null\n",
        "get_ipython().system_raw('python /opt/websockify/run 5901 --web=/opt/noVNC --wrap-mode=ignore -- /opt/TurboVNC/bin/vncserver :1 -depth 24 -geometry 1600x900 -securitytypes otp -otp -noxstartup > /content/.vnc/stdout 2>&1 &')\n",
        "get_ipython().system_raw('/opt/ngrok http -config=/content/config.yml 5901 &')\n",
        "! sleep 1\n",
        "#get_ipython().system_raw('DISPLAY=:1 openbox &')\n",
        "! sleep 1\n",
        "get_ipython().system_raw('DISPLAY=:1 startxfce4 &')\n",
        "! sleep 1\n",
        "get_ipython().system_raw('DISPLAY=:1 jupyter notebook &')\n",
        "! sleep 2\n",
        "get_ipython().system_raw('DISPLAY=:1 epiphany http://localhost:8888 &')\n",
        "! sleep 1\n",
        "get_ipython().system_raw('DISPLAY=:1 xfce4-terminal &')\n",
        "! sleep 1\n",
        "# get_ipython().system_raw('DISPLAY=:1 anydesk &')\n",
        "! sleep 1\n",
        "get_ipython().system_raw('DISPLAY=:1 winetricks vcrun2015  &')\n",
        "! sleep 1\n",
        "\n",
        "!grep \"one-time password:\" /content/.vnc/stdout\n",
        "\n",
        "import requests\n",
        "import json\n",
        "r = requests.get(\"http://localhost:4045/api/tunnels\", headers={\"content-type\": \"application/json\"})\n",
        "print(r.json()['tunnels'][0]['public_url'])"
      ],
      "execution_count": 3,
      "outputs": [
        {
          "output_type": "stream",
          "text": [
            "/content\n",
            "Full control one-time password: 40861790\n",
            "https://6ee695d4.ngrok.io\n"
          ],
          "name": "stdout"
        }
      ]
    },
    {
      "metadata": {
        "id": "MKgXoOiFOXtC",
        "colab_type": "text"
      },
      "cell_type": "markdown",
      "source": [
        "# テストプログラム"
      ]
    },
    {
      "metadata": {
        "id": "fanS55PiCAoq",
        "colab_type": "code",
        "colab": {}
      },
      "cell_type": "code",
      "source": [
        "#!curl -fsSL -O https://gist.githubusercontent.com/aquapathos/94ab03a7e84a58695289c5b9a70110fa/raw/d3bfc29bd02cb276c401ee966a319b3a18749b97/l0041-color_som-1.ipynb"
      ],
      "execution_count": 0,
      "outputs": []
    },
    {
      "metadata": {
        "id": "jNDAIU5uOcaD",
        "colab_type": "code",
        "colab": {}
      },
      "cell_type": "code",
      "source": [
        "#!curl -fsSL -O https://gist.githubusercontent.com/aquapathos/e7bb81a3bdd1a97f9337df4bc493a15a/raw/67cee05076de1552bb5bcce315e4dd503b06ba0a/Fake+Painter.ipynb"
      ],
      "execution_count": 0,
      "outputs": []
    },
    {
      "metadata": {
        "id": "tMSxDCl72K2t",
        "colab_type": "code",
        "colab": {}
      },
      "cell_type": "code",
      "source": [
        "# get_ipython().system_raw('DISPLAY=:1 startxfce4 &')"
      ],
      "execution_count": 0,
      "outputs": []
    },
    {
      "metadata": {
        "id": "SISdEejk2Lab",
        "colab_type": "code",
        "colab": {}
      },
      "cell_type": "code",
      "source": [
        "# get_ipython().system_raw('DISPLAY=:1 openbox &')"
      ],
      "execution_count": 0,
      "outputs": []
    },
    {
      "metadata": {
        "id": "zTsL7FFKi5nJ",
        "colab_type": "code",
        "colab": {}
      },
      "cell_type": "code",
      "source": [
        "#get_ipython().system_raw('DISPLAY=:1 xfce4-terminal &')"
      ],
      "execution_count": 0,
      "outputs": []
    },
    {
      "metadata": {
        "id": "bVPbkPVC4_N4",
        "colab_type": "code",
        "colab": {}
      },
      "cell_type": "code",
      "source": [
        "get_ipython().system_raw('DISPLAY=:1 winetricks vcrun2015  &')"
      ],
      "execution_count": 0,
      "outputs": []
    },
    {
      "metadata": {
        "id": "vhIXfmnCDxqI",
        "colab_type": "code",
        "colab": {}
      },
      "cell_type": "code",
      "source": [
        ""
      ],
      "execution_count": 0,
      "outputs": []
    }
  ]
}