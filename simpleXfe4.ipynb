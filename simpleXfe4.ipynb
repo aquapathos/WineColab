{
  "nbformat": 4,
  "nbformat_minor": 0,
  "metadata": {
    "colab": {
      "name": "simpleXfe4.ipynb",
      "provenance": [],
      "collapsed_sections": [],
      "authorship_tag": "ABX9TyO8Hpb/LmzBTYfZip3rYYBM",
      "include_colab_link": true
    },
    "kernelspec": {
      "name": "python3",
      "display_name": "Python 3"
    }
  },
  "cells": [
    {
      "cell_type": "markdown",
      "metadata": {
        "id": "view-in-github",
        "colab_type": "text"
      },
      "source": [
        "<a href=\"https://colab.research.google.com/github/aquapathos/WineColab/blob/master/simpleXfe4.ipynb\" target=\"_parent\"><img src=\"https://colab.research.google.com/assets/colab-badge.svg\" alt=\"Open In Colab\"/></a>"
      ]
    },
    {
      "cell_type": "markdown",
      "metadata": {
        "id": "RAmoQ-vJvC3K"
      },
      "source": [
        "# 準備スクリプト\r\n",
        "**prepareSimple.sh**\r\n",
        "に 必要な apt install , wget の手順のスクリプトを用意してあり、これを実行する"
      ]
    },
    {
      "cell_type": "code",
      "metadata": {
        "id": "FcGg73wDXQNi"
      },
      "source": [
        "import os\r\n",
        "os.environ['PATH'] += \"/opt/TurboVNC/bin\""
      ],
      "execution_count": 1,
      "outputs": []
    },
    {
      "cell_type": "code",
      "metadata": {
        "id": "2VgNNW_QXcru"
      },
      "source": [
        "%%bash\r\n",
        "rm /tmp/prepareSimple.sh  2> /dev/null\r\n",
        "mkdir -p /content/.vnc\r\n",
        "cd /tmp\r\n",
        "curl -fsSL -o prepareSimple.sh https://raw.githubusercontent.com/aquapathos/WineColab/master/prepareSimple.sh\r\n",
        "sh /tmp/prepareSimple.sh"
      ],
      "execution_count": 2,
      "outputs": []
    },
    {
      "cell_type": "markdown",
      "metadata": {
        "id": "uBVB0LU3vLZE"
      },
      "source": [
        "## 先行プロセスの kill （念のため/再試行のため）"
      ]
    },
    {
      "cell_type": "code",
      "metadata": {
        "colab": {
          "base_uri": "https://localhost:8080/"
        },
        "id": "Arv1WhbmX8L4",
        "outputId": "bab7cdd9-1f25-4518-8817-f9edaa85eae4"
      },
      "source": [
        "%%bash\r\n",
        "mkdir -p /content/.vnc\r\n",
        "kill $(ps ax | grep websockify | grep -v grep | awk '{ print $1 }') >/dev/null\r\n",
        "pkill ngrok\r\n",
        "pkill vncserver\r\n",
        "pkill Xvnc\r\n",
        "pkill anydesk\r\n",
        "pkill x11vnc"
      ],
      "execution_count": 4,
      "outputs": [
        {
          "output_type": "stream",
          "text": [
            "kill: usage: kill [-s sigspec | -n signum | -sigspec] pid | jobspec ... or kill -l [sigspec]\n"
          ],
          "name": "stderr"
        }
      ]
    },
    {
      "cell_type": "markdown",
      "metadata": {
        "id": "am1NucejzQ8P"
      },
      "source": [
        "## ngrok, noVNC 起動\r\n",
        "\r\n",
        "パスワードが表示されるのでコピー"
      ]
    },
    {
      "cell_type": "code",
      "metadata": {
        "colab": {
          "base_uri": "https://localhost:8080/"
        },
        "id": "e_9HcLWCX_bx",
        "outputId": "8d601c4a-5922-4fd4-bb5d-61d46f250aef"
      },
      "source": [
        "get_ipython().system_raw('/opt/websockify/run 5901 --web=/opt/noVNC --wrap-mode=ignore -- /opt/TurboVNC/bin/vncserver :1 -depth 24 -geometry 1600x900 -securitytypes otp -otp -noxstartup > /content/.vnc/stdout 2>&1 &')\r\n",
        "get_ipython().system_raw('/opt/ngrok http -config=/content/config.yml 5901 &')\r\n",
        "! sleep 1\r\n",
        "get_ipython().system_raw('DISPLAY=:1 startxfce4 &')\r\n",
        "! sleep 1\r\n",
        "get_ipython().system_raw('DISPLAY=:1 jupyter notebook &')\r\n",
        "! sleep 2\r\n",
        "get_ipython().system_raw('DISPLAY=:1 xfce4-terminal &')\r\n",
        "! sleep 1\r\n",
        "!grep \"one-time password:\" /content/.vnc/stdout"
      ],
      "execution_count": 5,
      "outputs": [
        {
          "output_type": "stream",
          "text": [
            "Full control one-time password: 29506381\n"
          ],
          "name": "stdout"
        }
      ]
    },
    {
      "cell_type": "code",
      "metadata": {
        "colab": {
          "base_uri": "https://localhost:8080/"
        },
        "id": "QSsfg0zUkehX",
        "outputId": "c31a9770-ab96-400c-b0ca-1e319d082498"
      },
      "source": [
        "import requests\r\n",
        "import json\r\n",
        "r = requests.get(\"http://localhost:4045/api/tunnels\", headers={\"content-type\": \"application/json\"})\r\n",
        "print(r.json()['tunnels'][0]['public_url'])"
      ],
      "execution_count": 6,
      "outputs": [
        {
          "output_type": "stream",
          "text": [
            "https://31875dde3cc5.ngrok.io\n"
          ],
          "name": "stdout"
        }
      ]
    }
  ]
}