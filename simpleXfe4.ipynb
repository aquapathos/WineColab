{
  "nbformat": 4,
  "nbformat_minor": 0,
  "metadata": {
    "colab": {
      "name": "simpleXfe4",
      "version": "0.3.2",
      "provenance": [],
      "collapsed_sections": [],
      "toc_visible": true,
      "include_colab_link": true
    },
    "kernelspec": {
      "name": "python3",
      "display_name": "Python 3"
    },
    "accelerator": "GPU"
  },
  "cells": [
    {
      "cell_type": "markdown",
      "metadata": {
        "id": "view-in-github",
        "colab_type": "text"
      },
      "source": [
        "<a href=\"https://colab.research.google.com/github/aquapathos/WineColab/blob/master/simpleXfe4.ipynb\" target=\"_parent\"><img src=\"https://colab.research.google.com/assets/colab-badge.svg\" alt=\"Open In Colab\"/></a>"
      ]
    },
    {
      "cell_type": "markdown",
      "metadata": {
        "id": "PAagFWqv2YeT",
        "colab_type": "text"
      },
      "source": [
        " ### 準備スクリプト\n",
        "- '[**prepareSimple.sh**](https://raw.githubusercontent.com/aquapathos/WineColab/master/prepareSimple.sh)\n",
        "\n",
        "に 必要な apt install , wget の手順のスクリプトを用意してあり、これを実行する\n"
      ]
    },
    {
      "cell_type": "code",
      "metadata": {
        "id": "x1CFRjldr8Cc",
        "colab_type": "code",
        "outputId": "e36e1e17-741d-4883-df06-8f4ecdd66bde",
        "colab": {
          "base_uri": "https://localhost:8080/",
          "height": 2577
        }
      },
      "source": [
        "# パス設定\n",
        "import os\n",
        "os.environ['PATH'] += \"/opt/TurboVNC/bin\"\n",
        "!mkdir -p /content/.vnc\n",
        "\n",
        "%cd /tmp\n",
        "!rm /tmp/prepareSimple.sh\n",
        "!mkdir -p /content/.vnc\n",
        "!curl -fsSL -o prepareSimple.sh https://raw.githubusercontent.com/aquapathos/WineColab/master/prepareSimple.sh\n",
        "!chmod a+x  /tmp/prepareSimple.sh\n",
        "!/tmp/prepareSimple.sh"
      ],
      "execution_count": 9,
      "outputs": [
        {
          "output_type": "stream",
          "text": [
            "/tmp\n",
            "rm: cannot remove '/tmp/prepareSimple.sh': No such file or directory\n",
            "Hit:1 http://ppa.launchpad.net/graphics-drivers/ppa/ubuntu bionic InRelease\n",
            "Hit:2 http://archive.ubuntu.com/ubuntu bionic InRelease\n",
            "Get:3 http://archive.ubuntu.com/ubuntu bionic-updates InRelease [88.7 kB]\n",
            "Hit:4 http://ppa.launchpad.net/marutter/c2d4u3.5/ubuntu bionic InRelease\n",
            "Get:5 http://archive.ubuntu.com/ubuntu bionic-backports InRelease [74.6 kB]\n",
            "Get:6 https://cloud.r-project.org/bin/linux/ubuntu bionic-cran35/ InRelease [3,609 B]\n",
            "Get:7 http://security.ubuntu.com/ubuntu bionic-security InRelease [88.7 kB]\n",
            "Ign:8 https://developer.download.nvidia.com/compute/cuda/repos/ubuntu1804/x86_64  InRelease\n",
            "Ign:9 https://developer.download.nvidia.com/compute/machine-learning/repos/ubuntu1804/x86_64  InRelease\n",
            "Hit:10 https://developer.download.nvidia.com/compute/cuda/repos/ubuntu1804/x86_64  Release\n",
            "Hit:11 https://developer.download.nvidia.com/compute/machine-learning/repos/ubuntu1804/x86_64  Release\n",
            "Get:12 http://archive.ubuntu.com/ubuntu bionic-updates/universe amd64 Packages [1,190 kB]\n",
            "Get:13 http://archive.ubuntu.com/ubuntu bionic-updates/main amd64 Packages [776 kB]\n",
            "Get:16 http://security.ubuntu.com/ubuntu bionic-security/universe amd64 Packages [304 kB]\n",
            "Get:17 http://security.ubuntu.com/ubuntu bionic-security/main amd64 Packages [424 kB]\n",
            "Fetched 2,950 kB in 2s (1,198 kB/s)\n",
            "Reading package lists... Done\n",
            "Building dependency tree       \n",
            "Reading state information... Done\n",
            "58 packages can be upgraded. Run 'apt list --upgradable' to see them.\n",
            "Reading package lists...\n",
            "Building dependency tree...\n",
            "Reading state information...\n",
            "The following package was automatically installed and is no longer required:\n",
            "  libnvidia-common-410\n",
            "Use 'apt autoremove' to remove it.\n",
            "The following additional packages will be installed:\n",
            "  libgtk2.0-common libpangoxft-1.0-0\n",
            "Suggested packages:\n",
            "  gvfs\n",
            "Recommended packages:\n",
            "  libgail-common libgtk2.0-bin\n",
            "The following NEW packages will be installed:\n",
            "  libgtk2.0-0 libgtk2.0-common libgtkglext1 libpango1.0-0 libpangox-1.0-0\n",
            "  libpangoxft-1.0-0\n",
            "0 upgraded, 6 newly installed, 0 to remove and 58 not upgraded.\n",
            "Need to get 2,028 kB of archives.\n",
            "After this operation, 6,775 kB of additional disk space will be used.\n",
            "Get:1 http://archive.ubuntu.com/ubuntu bionic/universe amd64 libpangox-1.0-0 amd64 0.0.2-5 [41.7 kB]\n",
            "Get:2 http://archive.ubuntu.com/ubuntu bionic/main amd64 libgtk2.0-common all 2.24.32-1ubuntu1 [125 kB]\n",
            "Get:3 http://archive.ubuntu.com/ubuntu bionic/main amd64 libgtk2.0-0 amd64 2.24.32-1ubuntu1 [1,769 kB]\n",
            "Get:4 http://archive.ubuntu.com/ubuntu bionic/universe amd64 libgtkglext1 amd64 1.2.0-8 [73.9 kB]\n",
            "Get:5 http://archive.ubuntu.com/ubuntu bionic-updates/main amd64 libpangoxft-1.0-0 amd64 1.40.14-1ubuntu0.1 [15.0 kB]\n",
            "Get:6 http://archive.ubuntu.com/ubuntu bionic-updates/universe amd64 libpango1.0-0 amd64 1.40.14-1ubuntu0.1 [3,344 B]\n",
            "Fetched 2,028 kB in 0s (16.7 MB/s)\n",
            "Selecting previously unselected package libpangox-1.0-0:amd64.\n",
            "(Reading database ... 130812 files and directories currently installed.)\n",
            "Preparing to unpack .../0-libpangox-1.0-0_0.0.2-5_amd64.deb ...\n",
            "Unpacking libpangox-1.0-0:amd64 (0.0.2-5) ...\n",
            "Selecting previously unselected package libgtk2.0-common.\n",
            "Preparing to unpack .../1-libgtk2.0-common_2.24.32-1ubuntu1_all.deb ...\n",
            "Unpacking libgtk2.0-common (2.24.32-1ubuntu1) ...\n",
            "Selecting previously unselected package libgtk2.0-0:amd64.\n",
            "Preparing to unpack .../2-libgtk2.0-0_2.24.32-1ubuntu1_amd64.deb ...\n",
            "Unpacking libgtk2.0-0:amd64 (2.24.32-1ubuntu1) ...\n",
            "Selecting previously unselected package libgtkglext1:amd64.\n",
            "Preparing to unpack .../3-libgtkglext1_1.2.0-8_amd64.deb ...\n",
            "Unpacking libgtkglext1:amd64 (1.2.0-8) ...\n",
            "Selecting previously unselected package libpangoxft-1.0-0:amd64.\n",
            "Preparing to unpack .../4-libpangoxft-1.0-0_1.40.14-1ubuntu0.1_amd64.deb ...\n",
            "Unpacking libpangoxft-1.0-0:amd64 (1.40.14-1ubuntu0.1) ...\n",
            "Selecting previously unselected package libpango1.0-0:amd64.\n",
            "Preparing to unpack .../5-libpango1.0-0_1.40.14-1ubuntu0.1_amd64.deb ...\n",
            "Unpacking libpango1.0-0:amd64 (1.40.14-1ubuntu0.1) ...\n",
            "Setting up libgtk2.0-common (2.24.32-1ubuntu1) ...\n",
            "Setting up libpangoxft-1.0-0:amd64 (1.40.14-1ubuntu0.1) ...\n",
            "Processing triggers for libc-bin (2.27-3ubuntu1) ...\n",
            "Setting up libpangox-1.0-0:amd64 (0.0.2-5) ...\n",
            "Setting up libgtk2.0-0:amd64 (2.24.32-1ubuntu1) ...\n",
            "Setting up libpango1.0-0:amd64 (1.40.14-1ubuntu0.1) ...\n",
            "Setting up libgtkglext1:amd64 (1.2.0-8) ...\n",
            "Processing triggers for libc-bin (2.27-3ubuntu1) ...\n",
            "Selecting previously unselected package anydesk.\n",
            "(Reading database ... 130886 files and directories currently installed.)\n",
            "Preparing to unpack anydesk_4.0.1-1_amd64.deb ...\n",
            "Unpacking anydesk (4.0.1-1) ...\n",
            "Selecting previously unselected package libjpeg-turbo-official.\n",
            "Preparing to unpack libjpeg-turbo-official_2.0.2_amd64.deb ...\n",
            "Unpacking libjpeg-turbo-official (2.0.2-20190213) ...\n",
            "Selecting previously unselected package turbovnc.\n",
            "Preparing to unpack turbovnc_2.2.1_amd64.deb ...\n",
            "Unpacking turbovnc (2.2.1-20190102) ...\n",
            "Setting up anydesk (4.0.1-1) ...\n",
            "Setting up libjpeg-turbo-official (2.0.2-20190213) ...\n",
            "Setting up turbovnc (2.2.1-20190102) ...\n",
            "Processing triggers for mime-support (3.60ubuntu1) ...\n",
            "Processing triggers for hicolor-icon-theme (0.17-2) ...\n",
            "Processing triggers for systemd (237-3ubuntu10.21) ...\n",
            "\n",
            "WARNING: apt does not have a stable CLI interface. Use with caution in scripts.\n",
            "\n",
            "Extracting templates from packages: 100%\n",
            "rm: cannot remove '/opt/ngrok': No such file or directory\n",
            "Archive:  ngrok-stable-linux-amd64.zip\n",
            "  inflating: /opt/ngrok              \n",
            "xmodmap:  unable to open display ':1'\n",
            "/tmp\n",
            "Hit:1 http://ppa.launchpad.net/graphics-drivers/ppa/ubuntu bionic InRelease\n",
            "Hit:2 http://archive.ubuntu.com/ubuntu bionic InRelease\n",
            "Hit:3 http://archive.ubuntu.com/ubuntu bionic-updates InRelease\n",
            "Hit:4 http://ppa.launchpad.net/marutter/c2d4u3.5/ubuntu bionic InRelease\n",
            "Hit:5 http://archive.ubuntu.com/ubuntu bionic-backports InRelease\n",
            "Hit:6 https://cloud.r-project.org/bin/linux/ubuntu bionic-cran35/ InRelease\n",
            "Hit:7 http://security.ubuntu.com/ubuntu bionic-security InRelease\n",
            "Ign:8 https://developer.download.nvidia.com/compute/cuda/repos/ubuntu1804/x86_64  InRelease\n",
            "Ign:9 https://developer.download.nvidia.com/compute/machine-learning/repos/ubuntu1804/x86_64  InRelease\n",
            "Hit:10 https://developer.download.nvidia.com/compute/cuda/repos/ubuntu1804/x86_64  Release\n",
            "Hit:11 https://developer.download.nvidia.com/compute/machine-learning/repos/ubuntu1804/x86_64  Release\n",
            "Reading package lists... Done\n",
            "Building dependency tree       \n",
            "Reading state information... Done\n",
            "58 packages can be upgraded. Run 'apt list --upgradable' to see them.\n",
            "Reading package lists...\n",
            "Building dependency tree...\n",
            "Reading state information...\n",
            "libgtk2.0-0 is already the newest version (2.24.32-1ubuntu1).\n",
            "libgtkglext1 is already the newest version (1.2.0-8).\n",
            "libpangox-1.0-0 is already the newest version (0.0.2-5).\n",
            "libpango1.0-0 is already the newest version (1.40.14-1ubuntu0.1).\n",
            "The following package was automatically installed and is no longer required:\n",
            "  libnvidia-common-410\n",
            "Use 'apt autoremove' to remove it.\n",
            "0 upgraded, 0 newly installed, 0 to remove and 58 not upgraded.\n",
            "(Reading database ... 169205 files and directories currently installed.)\n",
            "Preparing to unpack anydesk_4.0.1-1_amd64.deb ...\n",
            "Unpacking anydesk (4.0.1-1) over (4.0.1-1) ...\n",
            "Preparing to unpack libjpeg-turbo-official_2.0.2_amd64.deb ...\n",
            "Unpacking libjpeg-turbo-official (2.0.2-20190213) over (2.0.2-20190213) ...\n",
            "Preparing to unpack turbovnc_2.2.1_amd64.deb ...\n",
            "Unpacking turbovnc (2.2.1-20190102) over (2.2.1-20190102) ...\n",
            "Setting up anydesk (4.0.1-1) ...\n",
            "Setting up libjpeg-turbo-official (2.0.2-20190213) ...\n",
            "Setting up turbovnc (2.2.1-20190102) ...\n",
            "Processing triggers for desktop-file-utils (0.23-1ubuntu3.18.04.2) ...\n",
            "Processing triggers for mime-support (3.60ubuntu1) ...\n",
            "Processing triggers for hicolor-icon-theme (0.17-2) ...\n",
            "Processing triggers for systemd (237-3ubuntu10.21) ...\n",
            "\n",
            "WARNING: apt does not have a stable CLI interface. Use with caution in scripts.\n",
            "\n",
            "Archive:  ngrok-stable-linux-amd64.zip\n",
            "  inflating: /opt/ngrok              \n"
          ],
          "name": "stdout"
        }
      ]
    },
    {
      "cell_type": "markdown",
      "metadata": {
        "id": "Z3I__g46MOoa",
        "colab_type": "text"
      },
      "source": [
        "# noVNC セッションの開始\n",
        "#@title"
      ]
    },
    {
      "cell_type": "code",
      "metadata": {
        "id": "7SwnsECweSJ_",
        "colab_type": "code",
        "cellView": "both",
        "outputId": "7a50c644-39c3-4a0c-df9a-a7ecfc85f69f",
        "colab": {
          "base_uri": "https://localhost:8080/",
          "height": 124
        }
      },
      "source": [
        "%cd /content\n",
        "!mkdir -p /content/.vnc\n",
        "!kill $(ps ax | grep websockify | grep -v grep | awk '{ print $1 }') >/dev/null\n",
        "!pkill ngrok\n",
        "!pkill vncserver\n",
        "!pkill Xvnc\n",
        "!pkill anydesk\n",
        "#!pkill Xvfb\n",
        "!pkill x11vnc\n",
        "\n",
        "# !timeout 5 /opt/websockify/run 5901 --web=/opt/noVNC --wrap-mode=ignore -- /opt/TurboVNC/bin/vncserver :1 -securitytypes otp -otp -noxstartup 2>/dev/null\n",
        "get_ipython().system_raw('/opt/websockify/run 5901 --web=/opt/noVNC --wrap-mode=ignore -- /opt/TurboVNC/bin/vncserver :1 -depth 24 -geometry 1600x900 -securitytypes otp -otp -noxstartup > /content/.vnc/stdout 2>&1 &')\n",
        "get_ipython().system_raw('/opt/ngrok http -config=/content/config.yml 5901 &')\n",
        "! sleep 1\n",
        "get_ipython().system_raw('DISPLAY=:1 startxfce4 &')\n",
        "! sleep 1\n",
        "get_ipython().system_raw('DISPLAY=:1 jupyter notebook &')\n",
        "! sleep 2\n",
        "#get_ipython().system_raw('DISPLAY=:1 epiphany http://localhost:8888 &')\n",
        "#! sleep 1\n",
        "get_ipython().system_raw('DISPLAY=:1 xfce4-terminal &')\n",
        "! sleep 1\n",
        "\n",
        "\n",
        "!grep \"one-time password:\" /content/.vnc/stdout\n",
        "\n",
        "import requests\n",
        "import json\n",
        "r = requests.get(\"http://localhost:4045/api/tunnels\", headers={\"content-type\": \"application/json\"})\n",
        "print(r.json()['tunnels'][0]['public_url'])"
      ],
      "execution_count": 10,
      "outputs": [
        {
          "output_type": "stream",
          "text": [
            "/content\n",
            "Full control one-time password: 35064049\n",
            "http://9f328533.ngrok.io\n",
            "/content\n",
            "Full control one-time password: 22699206\n",
            "https://21c4181b.ngrok.io\n"
          ],
          "name": "stdout"
        }
      ]
    },
    {
      "cell_type": "markdown",
      "metadata": {
        "id": "MKgXoOiFOXtC",
        "colab_type": "text"
      },
      "source": [
        "# テストプログラム"
      ]
    },
    {
      "cell_type": "code",
      "metadata": {
        "id": "fanS55PiCAoq",
        "colab_type": "code",
        "colab": {}
      },
      "source": [
        "#!curl -fsSL -O https://gist.githubusercontent.com/aquapathos/94ab03a7e84a58695289c5b9a70110fa/raw/d3bfc29bd02cb276c401ee966a319b3a18749b97/l0041-color_som-1.ipynb"
      ],
      "execution_count": 0,
      "outputs": []
    },
    {
      "cell_type": "code",
      "metadata": {
        "id": "jNDAIU5uOcaD",
        "colab_type": "code",
        "colab": {}
      },
      "source": [
        "#!curl -fsSL -O https://gist.githubusercontent.com/aquapathos/e7bb81a3bdd1a97f9337df4bc493a15a/raw/67cee05076de1552bb5bcce315e4dd503b06ba0a/Fake+Painter.ipynb"
      ],
      "execution_count": 0,
      "outputs": []
    },
    {
      "cell_type": "code",
      "metadata": {
        "id": "tMSxDCl72K2t",
        "colab_type": "code",
        "colab": {}
      },
      "source": [
        "# get_ipython().system_raw('DISPLAY=:1 startxfce4 &')"
      ],
      "execution_count": 0,
      "outputs": []
    },
    {
      "cell_type": "code",
      "metadata": {
        "id": "SISdEejk2Lab",
        "colab_type": "code",
        "colab": {}
      },
      "source": [
        "# get_ipython().system_raw('DISPLAY=:1 openbox &')"
      ],
      "execution_count": 0,
      "outputs": []
    },
    {
      "cell_type": "code",
      "metadata": {
        "id": "zTsL7FFKi5nJ",
        "colab_type": "code",
        "colab": {}
      },
      "source": [
        "#get_ipython().system_raw('DISPLAY=:1 xfce4-terminal &')"
      ],
      "execution_count": 0,
      "outputs": []
    },
    {
      "cell_type": "code",
      "metadata": {
        "id": "bVPbkPVC4_N4",
        "colab_type": "code",
        "colab": {}
      },
      "source": [
        "# get_ipython().system_raw('DISPLAY=:1 winetricks vcrun2015  &')"
      ],
      "execution_count": 0,
      "outputs": []
    },
    {
      "cell_type": "code",
      "metadata": {
        "id": "vhIXfmnCDxqI",
        "colab_type": "code",
        "colab": {}
      },
      "source": [
        ""
      ],
      "execution_count": 0,
      "outputs": []
    }
  ]
}